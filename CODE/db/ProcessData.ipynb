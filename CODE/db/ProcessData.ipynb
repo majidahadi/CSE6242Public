{
  "nbformat": 4,
  "nbformat_minor": 0,
  "metadata": {
    "colab": {
      "name": "ProcessData.ipynb",
      "version": "0.3.2",
      "views": {},
      "default_view": {},
      "provenance": []
    }
  },
  "cells": [
    {
      "metadata": {
        "id": "YPm-N1gYLrzC",
        "colab_type": "text"
      },
      "source": [
        "# NLP Data Loader Notebook"
      ],
      "cell_type": "markdown"
    },
    {
      "metadata": {
        "id": "FIBMFspYpkXq",
        "colab_type": "code",
        "colab": {
          "autoexec": {
            "startup": false,
            "wait_interval": 0
          },
          "output_extras": [
            {
              "item_id": 1
            },
            {
              "item_id": 2
            }
          ],
          "base_uri": "https://localhost:8080/",
          "height": 34
        },
        "outputId": "7666bc86-4864-43bf-c97b-f82658277e34",
        "executionInfo": {
          "status": "ok",
          "timestamp": 1511749535352,
          "user_tz": 300,
          "elapsed": 2029,
          "user": {
            "displayName": "Robert Martin",
            "photoUrl": "//lh6.googleusercontent.com/-oe49O66B87Q/AAAAAAAAAAI/AAAAAAAAAGk/957yFLtiJj4/s50-c-k-no/photo.jpg",
            "userId": "101369184050703180249"
          }
        }
      },
      "source": [
        "!gcloud config set project romartin-cse6242a"
      ],
      "cell_type": "code",
      "execution_count": 2,
      "outputs": [
        {
          "output_type": "display_data",
          "data": {
            "text/plain": [
              "<IPython.core.display.HTML object>"
            ],
            "text/html": [
              "\n",
              "          <script src=\"/static/components/requirejs/require.js\"></script>\n",
              "          <script>\n",
              "            requirejs.config({\n",
              "              paths: {\n",
              "                base: '/static/base',\n",
              "              },\n",
              "            });\n",
              "          </script>\n",
              "          "
            ]
          },
          "metadata": {
            "tags": []
          }
        },
        {
          "output_type": "stream",
          "text": [
            "Updated property [core/project].\r\n"
          ],
          "name": "stdout"
        }
      ]
    },
    {
      "metadata": {
        "id": "v-7gSvenoyBm",
        "colab_type": "code",
        "colab": {
          "autoexec": {
            "startup": false,
            "wait_interval": 0
          },
          "output_extras": [
            {
              "item_id": 1
            },
            {
              "item_id": 3
            }
          ],
          "base_uri": "https://localhost:8080/",
          "height": 513
        },
        "outputId": "8156912f-99cf-4877-ff56-d21926c2a7d0",
        "executionInfo": {
          "status": "ok",
          "timestamp": 1511749540071,
          "user_tz": 300,
          "elapsed": 2757,
          "user": {
            "displayName": "Robert Martin",
            "photoUrl": "//lh6.googleusercontent.com/-oe49O66B87Q/AAAAAAAAAAI/AAAAAAAAAGk/957yFLtiJj4/s50-c-k-no/photo.jpg",
            "userId": "101369184050703180249"
          }
        }
      },
      "source": [
        "!pip install google-cloud-datastore==1.4.0"
      ],
      "cell_type": "code",
      "execution_count": 3,
      "outputs": [
        {
          "output_type": "display_data",
          "data": {
            "text/plain": [
              "<IPython.core.display.HTML object>"
            ],
            "text/html": [
              "\n",
              "          <script src=\"/static/components/requirejs/require.js\"></script>\n",
              "          <script>\n",
              "            requirejs.config({\n",
              "              paths: {\n",
              "                base: '/static/base',\n",
              "              },\n",
              "            });\n",
              "          </script>\n",
              "          "
            ]
          },
          "metadata": {
            "tags": []
          }
        },
        {
          "output_type": "stream",
          "text": [
            "Requirement already satisfied: google-cloud-datastore==1.4.0 in /usr/local/lib/python2.7/dist-packages\r\n",
            "Requirement already satisfied: google-api-core<0.2.0dev,>=0.1.1 in /usr/local/lib/python2.7/dist-packages (from google-cloud-datastore==1.4.0)\r\n",
            "Requirement already satisfied: google-gax<0.16dev,>=0.15.7 in /usr/local/lib/python2.7/dist-packages (from google-cloud-datastore==1.4.0)\r\n",
            "Requirement already satisfied: google-cloud-core<0.29dev,>=0.28.0 in /usr/local/lib/python2.7/dist-packages (from google-cloud-datastore==1.4.0)\r\n",
            "Requirement already satisfied: gapic-google-cloud-datastore-v1<0.16dev,>=0.15.0 in /usr/local/lib/python2.7/dist-packages (from google-cloud-datastore==1.4.0)\r\n",
            "Requirement already satisfied: requests<3.0.0dev,>=2.18.0 in /usr/local/lib/python2.7/dist-packages (from google-api-core<0.2.0dev,>=0.1.1->google-cloud-datastore==1.4.0)\n",
            "Requirement already satisfied: futures>=3.0.0; python_version < \"3.2\" in /usr/local/lib/python2.7/dist-packages (from google-api-core<0.2.0dev,>=0.1.1->google-cloud-datastore==1.4.0)\n",
            "Requirement already satisfied: googleapis-common-protos<2.0dev,>=1.5.3 in /usr/local/lib/python2.7/dist-packages (from google-api-core<0.2.0dev,>=0.1.1->google-cloud-datastore==1.4.0)\n",
            "Requirement already satisfied: google-auth<2.0.0dev,>=0.4.0 in /usr/local/lib/python2.7/dist-packages (from google-api-core<0.2.0dev,>=0.1.1->google-cloud-datastore==1.4.0)\n",
            "Requirement already satisfied: protobuf>=3.0.0 in /usr/local/lib/python2.7/dist-packages (from google-api-core<0.2.0dev,>=0.1.1->google-cloud-datastore==1.4.0)\n",
            "Requirement already satisfied: six>=1.10.0 in /usr/local/lib/python2.7/dist-packages (from google-api-core<0.2.0dev,>=0.1.1->google-cloud-datastore==1.4.0)\n",
            "Requirement already satisfied: setuptools>=34.0.0 in /usr/local/lib/python2.7/dist-packages (from google-api-core<0.2.0dev,>=0.1.1->google-cloud-datastore==1.4.0)\n",
            "Requirement already satisfied: future<0.17dev,>=0.16.0 in /usr/local/lib/python2.7/dist-packages (from google-gax<0.16dev,>=0.15.7->google-cloud-datastore==1.4.0)\n",
            "Requirement already satisfied: dill<0.3dev,>=0.2.5 in /usr/local/lib/python2.7/dist-packages (from google-gax<0.16dev,>=0.15.7->google-cloud-datastore==1.4.0)\n",
            "Requirement already satisfied: ply==3.8 in /usr/local/lib/python2.7/dist-packages (from google-gax<0.16dev,>=0.15.7->google-cloud-datastore==1.4.0)\n",
            "Requirement already satisfied: grpcio<2.0dev,>=1.0.2 in /usr/local/lib/python2.7/dist-packages (from google-gax<0.16dev,>=0.15.7->google-cloud-datastore==1.4.0)\n",
            "Requirement already satisfied: oauth2client<4.0dev,>=2.0.0 in /usr/local/lib/python2.7/dist-packages (from gapic-google-cloud-datastore-v1<0.16dev,>=0.15.0->google-cloud-datastore==1.4.0)\n",
            "Requirement already satisfied: proto-google-cloud-datastore-v1[grpc]<0.91dev,>=0.90.3 in /usr/local/lib/python2.7/dist-packages (from gapic-google-cloud-datastore-v1<0.16dev,>=0.15.0->google-cloud-datastore==1.4.0)\n",
            "Requirement already satisfied: urllib3<1.23,>=1.21.1 in /usr/local/lib/python2.7/dist-packages (from requests<3.0.0dev,>=2.18.0->google-api-core<0.2.0dev,>=0.1.1->google-cloud-datastore==1.4.0)\n",
            "Requirement already satisfied: idna<2.7,>=2.5 in /usr/local/lib/python2.7/dist-packages (from requests<3.0.0dev,>=2.18.0->google-api-core<0.2.0dev,>=0.1.1->google-cloud-datastore==1.4.0)\n",
            "Requirement already satisfied: chardet<3.1.0,>=3.0.2 in /usr/local/lib/python2.7/dist-packages (from requests<3.0.0dev,>=2.18.0->google-api-core<0.2.0dev,>=0.1.1->google-cloud-datastore==1.4.0)\n",
            "Requirement already satisfied: certifi>=2017.4.17 in /usr/local/lib/python2.7/dist-packages (from requests<3.0.0dev,>=2.18.0->google-api-core<0.2.0dev,>=0.1.1->google-cloud-datastore==1.4.0)\n",
            "Requirement already satisfied: cachetools>=2.0.0 in /usr/local/lib/python2.7/dist-packages (from google-auth<2.0.0dev,>=0.4.0->google-api-core<0.2.0dev,>=0.1.1->google-cloud-datastore==1.4.0)\n",
            "Requirement already satisfied: rsa>=3.1.4 in /usr/local/lib/python2.7/dist-packages (from google-auth<2.0.0dev,>=0.4.0->google-api-core<0.2.0dev,>=0.1.1->google-cloud-datastore==1.4.0)\n",
            "Requirement already satisfied: pyasn1-modules>=0.0.5 in /usr/local/lib/python2.7/dist-packages (from google-auth<2.0.0dev,>=0.4.0->google-api-core<0.2.0dev,>=0.1.1->google-cloud-datastore==1.4.0)\n",
            "Requirement already satisfied: pyasn1>=0.1.7 in /usr/local/lib/python2.7/dist-packages (from google-auth<2.0.0dev,>=0.4.0->google-api-core<0.2.0dev,>=0.1.1->google-cloud-datastore==1.4.0)\n",
            "Requirement already satisfied: enum34>=1.0.4 in /usr/local/lib/python2.7/dist-packages (from grpcio<2.0dev,>=1.0.2->google-gax<0.16dev,>=0.15.7->google-cloud-datastore==1.4.0)\n",
            "Requirement already satisfied: httplib2>=0.9.1 in /usr/local/lib/python2.7/dist-packages (from oauth2client<4.0dev,>=2.0.0->gapic-google-cloud-datastore-v1<0.16dev,>=0.15.0->google-cloud-datastore==1.4.0)\n"
          ],
          "name": "stdout"
        }
      ]
    },
    {
      "metadata": {
        "id": "IBvjtwlNolch",
        "colab_type": "code",
        "colab": {
          "autoexec": {
            "startup": false,
            "wait_interval": 0
          },
          "output_extras": [
            {
              "item_id": 1
            },
            {
              "item_id": 3
            }
          ],
          "base_uri": "https://localhost:8080/",
          "height": 68
        },
        "outputId": "a8551043-27d4-49b8-ed21-d7fad8c2a9d0",
        "executionInfo": {
          "status": "ok",
          "timestamp": 1511749624695,
          "user_tz": 300,
          "elapsed": 3346,
          "user": {
            "displayName": "Robert Martin",
            "photoUrl": "//lh6.googleusercontent.com/-oe49O66B87Q/AAAAAAAAAAI/AAAAAAAAAGk/957yFLtiJj4/s50-c-k-no/photo.jpg",
            "userId": "101369184050703180249"
          }
        }
      },
      "source": [
        "!gsutil cp gs://cse6242a/synonyms.json ."
      ],
      "cell_type": "code",
      "execution_count": 6,
      "outputs": [
        {
          "output_type": "display_data",
          "data": {
            "text/plain": [
              "<IPython.core.display.HTML object>"
            ],
            "text/html": [
              "\n",
              "          <script src=\"/static/components/requirejs/require.js\"></script>\n",
              "          <script>\n",
              "            requirejs.config({\n",
              "              paths: {\n",
              "                base: '/static/base',\n",
              "              },\n",
              "            });\n",
              "          </script>\n",
              "          "
            ]
          },
          "metadata": {
            "tags": []
          }
        },
        {
          "output_type": "stream",
          "text": [
            "Copying gs://cse6242a/synonyms.json...\n",
            "/ [1 files][ 43.6 MiB/ 43.6 MiB]                                                \n",
            "Operation completed over 1 objects/43.6 MiB.                                     \n"
          ],
          "name": "stdout"
        }
      ]
    },
    {
      "metadata": {
        "id": "imK9x20molcn",
        "colab_type": "code",
        "colab": {
          "autoexec": {
            "startup": false,
            "wait_interval": 0
          },
          "output_extras": [
            {
              "item_id": 1
            },
            {
              "item_id": 2
            }
          ],
          "base_uri": "https://localhost:8080/",
          "height": 51
        },
        "outputId": "02e1ad1a-7d97-41ef-911c-808edc8958d6",
        "executionInfo": {
          "status": "ok",
          "timestamp": 1511751045971,
          "user_tz": 300,
          "elapsed": 661,
          "user": {
            "displayName": "Robert Martin",
            "photoUrl": "//lh6.googleusercontent.com/-oe49O66B87Q/AAAAAAAAAAI/AAAAAAAAAGk/957yFLtiJj4/s50-c-k-no/photo.jpg",
            "userId": "101369184050703180249"
          }
        }
      },
      "source": [
        "from google.cloud import datastore\n",
        "import json\n",
        "from threading import Thread\n",
        "\n",
        "def saver(i, datastore_client, words):\n",
        "  datastore_client.put_multi(words)\n",
        "  print str(i) + ', ',\n",
        "  \n",
        "datastore_client = datastore.Client(project='romartin-cse6242a')\n",
        "kind = 'Word'\n",
        "\n",
        "# delete the table\n",
        "query = datastore_client.query(kind='Word')\n",
        "#results = list(query.fetch())\n",
        "keys = query.keys_only()\n",
        "#for result in results:\n",
        "#  print('deleting ' + result.key.name)\n",
        "\n",
        " # datastore_client.delete(result.key)\n",
        "print 'Deleting' \n",
        "datastore_client.delete_multi(keys)\n",
        "print 'Finished deleting.' \n"
      ],
      "cell_type": "code",
      "execution_count": 18,
      "outputs": [
        {
          "output_type": "display_data",
          "data": {
            "text/plain": [
              "<IPython.core.display.HTML object>"
            ],
            "text/html": [
              "\n",
              "          <script src=\"/static/components/requirejs/require.js\"></script>\n",
              "          <script>\n",
              "            requirejs.config({\n",
              "              paths: {\n",
              "                base: '/static/base',\n",
              "              },\n",
              "            });\n",
              "          </script>\n",
              "          "
            ]
          },
          "metadata": {
            "tags": []
          }
        },
        {
          "output_type": "stream",
          "text": [
            "Deleting\n",
            "Finished deleting.\n"
          ],
          "name": "stdout"
        }
      ]
    },
    {
      "metadata": {
        "id": "WS1muHoRYWX6",
        "colab_type": "code",
        "colab": {
          "autoexec": {
            "startup": false,
            "wait_interval": 0
          },
          "output_extras": [
            {
              "item_id": 1
            },
            {
              "item_id": 64
            },
            {
              "item_id": 124
            },
            {
              "item_id": 138
            }
          ],
          "base_uri": "https://localhost:8080/",
          "height": 292
        },
        "outputId": "d8516b52-b799-42fc-9b80-c5157b41dba6",
        "executionInfo": {
          "status": "ok",
          "timestamp": 1511751655811,
          "user_tz": 300,
          "elapsed": 41294,
          "user": {
            "displayName": "Robert Martin",
            "photoUrl": "//lh6.googleusercontent.com/-oe49O66B87Q/AAAAAAAAAAI/AAAAAAAAAGk/957yFLtiJj4/s50-c-k-no/photo.jpg",
            "userId": "101369184050703180249"
          }
        }
      },
      "source": [
        "with open('synonyms.json') as f: \n",
        "  words = []\n",
        "  i = 0\n",
        "  for line in f:\n",
        "\n",
        "    if line.strip() == '[':\n",
        "      continue\n",
        "\n",
        "    if line.strip() == ']':\n",
        "      continue\n",
        "\n",
        "    if len(line.strip()) == 0:\n",
        "      continue\n",
        "\n",
        "\n",
        "    #print(i)\n",
        "    i = i + 1\n",
        "    json_object = json.loads(line)\n",
        "    word = json_object['word']\n",
        "    word_key = datastore_client.key(kind, word)\n",
        "    word_entity = datastore.Entity(key=word_key,exclude_from_indexes=['data'])\n",
        "    word_entity['data'] = line\n",
        "    words.append(word_entity)\n",
        "    if (i % 100 == 0):\n",
        "      t = Thread(target=saver, args=(i,datastore_client,words))\n",
        "      t.start()\n",
        "      words = []\n",
        "      \n",
        "    if (i % 10000 == 0):\n",
        "      print ''\n",
        "\n",
        "  if (len(words) > 0):\n",
        "    print(str(len(words)) + ', '),\n",
        "    t = Thread(target=saver, args=(i,datastore_client,words))\n",
        "    t.start()\n",
        "  print ('Finished - saved ' + str(i) + ' records.')\n",
        "     \n",
        "    #datastore_client.put(word_entity)\n",
        "    #print line, \n",
        "#  print 'Saving' \n",
        "#  print 'Finished saving.' \n"
      ],
      "cell_type": "code",
      "execution_count": 20,
      "outputs": [
        {
          "output_type": "display_data",
          "data": {
            "text/plain": [
              "<IPython.core.display.HTML object>"
            ],
            "text/html": [
              "\n",
              "          <script src=\"/static/components/requirejs/require.js\"></script>\n",
              "          <script>\n",
              "            requirejs.config({\n",
              "              paths: {\n",
              "                base: '/static/base',\n",
              "              },\n",
              "            });\n",
              "          </script>\n",
              "          "
            ]
          },
          "metadata": {
            "tags": []
          }
        },
        {
          "output_type": "stream",
          "text": [
            "400,  100,  300,  1400,  1500,  1000,  \n",
            "1300,  600,  200,  1100,  1600,  700,  1700,  1900,  900,  800,  2000,  500,  1200,  1800,  2600,  2100,  2400,  2300,  2500,  2700,  3100,  2800,  3300,  3900,  2900,  3200,  2200,  3600,  3500,  3400,  4200,  3700,  3800,  4000,  4100,  4600,  4300,  4700,  4500,  4400,  4800,  5300,  4900,  5000,  5100,  5600,  5800,  5500,  3000,  5700, \n",
            " 6800,  5900,  6500,  6600,  6300,  6400,    7100, 6700, 6200,  6100,  7000,  7900,  6000,  6900,  7300,  7600, 7500,  7400, 8000,  8300,  7700,  7200,  8200,  8100, 7800,  5200,  5400,  9200,  8400,  8500,  9300,  8800, 8600,  9900, 9000,  9100,   8700, 9800,  9400,  9500,  9600,  10200,   8900, 9700,  10100,  10500,  10600,  10700, 11100, 10400,  10300,  10900,  12200,  11000,  10800,  11700,  11300, 12100,   10000,  12000, 11900, 11800,  12400,  11400,  11200,  11500,  12300,  11600,  12500,  12700,  12600,  12800,  13000,  13100,  13400, 12900,  13300,  13200,  13800,  13500,  13600,  13900,  \n",
            "13700,  14200,  14000,  14400,  14600,   14700, 14800,  14500,  14100,  14300,  15000,  15200,  15300,  15100,  15600,  14900,  15500,  15900,  15700,  16500,  15800,  16100,  16300,  16000,  16800,  16400,  16600,  16700,  17500,  17300,   17600, 17900, 17400,    17100,  17200, 17700, 16200, 17800,  16900,  18100, 18400,  18200,  18000,  18500,  15400, 18300,  18800, 19400,  18900,  19100,  19200,  18600,  19000,  18700, 19600, 19700,  17000, 19800,  20000,  19900, 19300,  19500,  20100,  20700,  20500,  21000,  20400, \n",
            " 20600,  21800,  20200,  20300, 21200,  21400,  21300,  21700, 21100, 20900,  21500,  22200,   22100, 22500,   22400, 20800,    22700, 22000, 21900, 22300, 21600,  22600,  22900,  23000,  22800,  23200,  23400,  23300,  23700,  23600,  23800,  23500,  23100,  23900,  24300,  24000,  24900,  24100, 24200,   25100, 24500,  24400,  24600,  25200,  24800,  25300, 24700,  25000,  25700,  25400,  25800,  25900,  25500, 26300,  25600,  26600,  26400,  26200,  26700,  26000,  27600,  26900, 26100, 27300,  27100,  27000,  26500,  26800,  27900,  27500,  \n",
            "27800,  28000,   27700, 28400,  27200,  28500,  27400,  28600,  28300,  29000, 29200,   28800, 28100,  29100,  28700,  29300,  29600,  28200,  29500,    30500, 28900, 29400, 30600,  30100,  30200,  29800,  32500, 31000,  29700,  31300, 31500,  30800,  31600,  31100, 31400,  29900,  32100,   31900, 30900, 30000,  30700,  30300,  31200,  32200, 30400,  32300,  31800, 32000,  31700,  32600,  33100,  33800, 34000,    32400, 33300, 32900,  32700,  34100, 32800,  34400,  33900,  33200,  33000,  33500,  33700,  \n",
            "34300,  34500,  34200,  35400,  33400,  34800,  34700,  34600,  34900,  35000,  35100,  35300,  35900,  35500,  39100, 36000,  35700,  35600,  35800,  35200,  36300,  39000, 39300,   39400, 33600,  36200,  36500,  39200,  39600,  36100,  39700,  36400,  39500,  39900,  40000,  40600, 36600,  39800,  37000,  37100,  40300,  37300,      40500,  40400, 38300, 36900, 37400,  36700,  38900,   37200, 40200, 40100, 38400, 36800,  37800,  37600, 41100,  37500,   38200, 41600,    38000,  41300, 40900, 40700, 38100,  41000,  42100,  37900,  41700,  41800,  41500, 38800,  41400, 40800,  42200,  \n",
            "42300,  42600,  41900,  "
          ],
          "name": "stdout"
        },
        {
          "output_type": "stream",
          "text": [
            "43000, 38500,  41200,  42000,  37700,  38700,  42400,  43200,  38600,  43100,  42500,  42700,  43800,  43500,  43600,  43900,  44000, 43400,  43300,  42800, 44400,  44200,  42900,  44100,  44500,  44600,  44300,  45100,  45200,  43700,  44800,  44700,  45000,  44900,  45300,  45800,  45400, 46000, 45600,   45700, 45500,  47000,  45900,  46700,  46200,  46300,  46800,  46500,  \n",
            " 48000,  47100, 47700,  47500,  46600,  47800,  46100,  46400,  46900,   47600, 48700,  48200,  47400,  48500,  48300, 49400,  49700,  51200, 49500,  49100,  50500,  47300,  51000,  51100,  50700,  51500,  49900,   48400, 49800,  49600,  49000, 47900,   49200, 50000, 48600,  50600,  48800,  50100,  51300,  51700,  49300,  52200,  48900,  51600,  50200,  52000,  47200,  50800,  50900,  52100,  50400,  52400, 51400,   52300,  52900, 53500,  53000,  51800,  53300,  50300,  48100, 52800,  52600,  53400,  53200,  53600,  52500,  53900,  51900,  54600,  55300,  52700,  54400,  54500,  53100,  56100,  53700,  \n",
            "54900,  55400,  55900, 57800,  54200,   53800, 56600,  57900,  54700,  55500,  54300, 55100,  55800, 55000,  56900,  55700,  56000,  55200,  55600, 54000,  56800,  58200,  57600,  59000,  57700,  59900,  58700,  59400, 56500,  56300,  57200,  56700,  58800,   58100,  54800, 54100,  57000, 56200,  59200,  57300, 57100,  58500,  57500,  59500, 57400,  61200,  60200, 58900,  56400,  58000, 58600,  60100,  60300,  61000,  58400,  60400,  61300,  60500,  60000,  60800,  60900,  62000,  62600,  61800,  61100,  62500,  59100,  60700,  59700,  \n",
            "59300,  63000, 62300,  59800,  64100,  63800,  61700,  63900, 64000,    60600, 61400,       62900,  61900, 63300, 62200, 63600, 62400, 59600, 62100, 63100, 58300, 63500, 61500,  63400,  63700,  64300,  61600,  62800,  64200,  62700,  64800,  64400,  64700,  68100,  65100,  64500,  63200,  65700,  64600,  69200,  67000,  64900,  66200,  66700,  65200,  65900, 66500,  65800,  65600,  65500,  65400,  66400,  69300,  66300,  67400,  69400,  65300, 68900,  69600,  66000,  67200,  68600,  65000,  \n",
            "67800,  66600, 67700,  68500,  66900, 67900,  68400, 68800,  66100,  69900,  66800,  70100, 70000,  68700,  69800,  67100,  67300,  69700,  68200,  67600, 70400,  70800, 70500,  68000,  67500,  70300,  68300, 71100,  70700,  69500,  71200, 70600,  71500,  71700,   71000, 70900, 76300,  71600,  70200,  71400,  69000,  71800,  72400,  76600,  73300, 73000,  76400, 69100,  76900,  76500,  72900,  77200, 72100,   72200, 77500,  71900,  76700,  76200,  72300,  73100,  \n",
            "77100,  73700,  71300, 72000,  72600,  76800,  77400,  73500,  77700,  72700, 73800,  72500,  73600,  77300,  73400,  72800,  78100,  74100,  77600,  73900,  73200,  77000,  74000,  77800,  78400,  78000,  78600,  78700,  74400,  77900,  78800,  78300,  78200,  74300,  79200,  74200,  78500,  74500,  74700,  75400,  78900,  79000,  75100,  74600,  75000, 74800,  74900,  75300,  79100,  76100,  75200,  75700,  79500,  76000,  79600,  75900,  80000,  79300,  79400,  79700,  75500,  75800, 75600, 81800,  \n",
            "79800, "
          ],
          "name": "stdout"
        },
        {
          "output_type": "stream",
          "text": [
            " 80100,  81100,  81700,  80200,  79900,  80700,  80300,  80500,  81300, 82500,  82800,  81500,  80400,  80800,  82900,   81400, 80900,  81900,  81200,  83500,  84000,  84300, 80600, 82100,  82200,  \n",
            "84900,  82000,  83700,  81600, 82300,  84400,  82600, 82400,  84500,  85400, 83400,  83600,  83900,  90200,  85500, 85600,  83000,  81000,  84600,  84800,  90100,  84100,  84200,  84700,  83300,  83100,  83200,  83800,  86000,  82700,  85900,  90300,  85200,  85100,  85000,  85300,  86400,  85700,  90500, 86900,  86800,  86600,      87100,  87200, 86100, 86700, 90400, 86200, 85800, 86300,  86500,  87400,  90600,  87000,  88200,  87300,  88000,  90700,  87500,  87600,  87800,  87900,  87700,  88600,  78, 88100,  Finished - saved 147478 records.\n"
          ],
          "name": "stdout"
        }
      ]
    },
    {
      "metadata": {
        "id": "Kf09Pl37olcq",
        "colab_type": "code",
        "colab": {
          "autoexec": {
            "startup": false,
            "wait_interval": 0
          }
        }
      },
      "source": [
        ""
      ],
      "cell_type": "code",
      "execution_count": 0,
      "outputs": []
    },
    {
      "metadata": {
        "id": "kwhCTA82olct",
        "colab_type": "code",
        "colab": {
          "autoexec": {
            "startup": false,
            "wait_interval": 0
          }
        }
      },
      "source": [
        ""
      ],
      "cell_type": "code",
      "execution_count": 0,
      "outputs": []
    }
  ]
}